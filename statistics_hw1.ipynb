{
 "cells": [
  {
   "cell_type": "markdown",
   "id": "e5c0f0e1-1ce1-4d98-b7fe-a7ab438f1260",
   "metadata": {},
   "source": [
    "Задание 1 (на сопоставление)"
   ]
  },
  {
   "cell_type": "code",
   "execution_count": null,
   "id": "237f3145-8a79-4809-8e28-ac3b84dc5653",
   "metadata": {},
   "outputs": [],
   "source": [
    "'''Ваш ответ на задание №1 (в формате 1-А, 2-В и т.д.) '''"
   ]
  },
  {
   "cell_type": "markdown",
   "id": "33c54c71",
   "metadata": {},
   "source": [
    "A - 5 (для различия между многими выборками это у нас ANOVA)  \n",
    "B - 2 (если дисперсия генеральной совокупности не известна, то это t-критерий)  \n",
    "C - 4 (Хи-квадрат позволяет оценить, насколько наблюдаемые данные соответствуют ожидаемым данным, основанным на гипотетической модели)  \n",
    "D - 4 (Хи-квадрат тест позволяет проверять гипотезу о том, что дисперсия (или стандартное отклонение) выборки равна определенному значению)  \n",
    "E - 1 (если дисперсия генеральной совокупности известна, то это Z-критерий)  \n",
    "F - 3 (F-тест применяется для проверки гипотезы о равенстве дисперсий двух выборок)  \n",
    "G - 4 (Хи-квадрат используется для проверки гипотезы о наличии или отсутствии связи между двумя переменными)  "
   ]
  },
  {
   "cell_type": "markdown",
   "id": "e8eecee9-8ad7-4f85-9dfa-a58fa415b076",
   "metadata": {},
   "source": [
    "Задание 2 (про порошок)"
   ]
  },
  {
   "cell_type": "code",
   "execution_count": null,
   "id": "6104ff71-0cfc-4d8b-9b7e-c1e3641b3c87",
   "metadata": {},
   "outputs": [],
   "source": [
    "'''Ваш ответ на задание №2 \n",
    "- верно указана применяемая статистика и обоснование ее применения\n",
    "- получено расчетное значение статистики\n",
    "- получено критическое значение статистики\n",
    "- получено значение p_value\n",
    "- сделан статистический вывод на основе сравнения критического значения с расчетным\n",
    "- сделан статистический вывод на основе сравнения p-value и уровня значимости\n",
    "- сделан содержательный вывод по поставленной проблеме'''"
   ]
  },
  {
   "cell_type": "code",
   "execution_count": 10,
   "id": "1851ed7c",
   "metadata": {},
   "outputs": [
    {
     "name": "stdout",
     "output_type": "stream",
     "text": [
      "Значение p-value: 0.01842212545410149\n",
      "Z-статистика: 2.3570226039551083\n",
      "Критическое значение: ±1.959963984540054\n",
      "На основе Z-критического отвергаем нулевую гипотезу: есть достаточные доказательства того, что истинное среднее значение не равно 3.00 кг.\n",
      "На основе p-value отвергаем нулевую гипотезу: есть достаточные доказательства того, что истинное среднее значение не равно 3.00 кг.\n"
     ]
    }
   ],
   "source": [
    "#Размер выборки большой (n=50), что позволяет применять центральную предельную теорему (не очень важный критерий)\n",
    "#Мы знаем стандартное отклонение популяции (наиболее важный критерий имхо)\n",
    "#Поэтому применяем z-тест\n",
    "import numpy as np\n",
    "import scipy.stats as stats\n",
    "\n",
    "sample_mean = 3.005 \n",
    "population_mean = 3.00\n",
    "std_dev = 0.015\n",
    "n = 50\n",
    "\n",
    "z = (sample_mean - population_mean) / (std_dev / np.sqrt(n))\n",
    "\n",
    "alpha = 0.05\n",
    "\n",
    "critical_value = stats.norm.ppf(1 - alpha / 2)\n",
    "p_value = 2 * (1 - stats.norm.cdf(abs(z)))\n",
    "print(f\"Значение p-value: {p_value}\")\n",
    "\n",
    "print(f\"Z-статистика: {z}\")\n",
    "print(f\"Критическое значение: ±{critical_value}\")\n",
    "\n",
    "if abs(z) > critical_value:\n",
    "    print(\"На основе Z-критического отвергаем нулевую гипотезу: есть достаточные доказательства того, что истинное среднее значение не равно 3.00 кг.\")\n",
    "else:\n",
    "    print(\"На основе Z-критического не отвергаем нулевую гипотезу: недостаточно доказательств для утверждения, что истинное среднее значение отличается от 3.00 кг.\")\n",
    "\n",
    "if p_value < alpha:\n",
    "    print(\"На основе p-value отвергаем нулевую гипотезу: есть достаточные доказательства того, что истинное среднее значение не равно 3.00 кг.\")\n",
    "else:\n",
    "    print(\"На основе p-value не отвергаем нулевую гипотезу: недостаточно доказательств для утверждения, что истинное среднее значение отличается от 3.00 кг.\")\n",
    "\n",
    "#Для нашего заданного уровня доверия мы можем предположить, что различия в дозировании имеются и они статистически значимы,\n",
    "#поэтому мастеру нужно откалибровать дозатор"
   ]
  },
  {
   "cell_type": "markdown",
   "id": "17ad34a0-cbb3-482a-99d4-253f0b70f05f",
   "metadata": {},
   "source": [
    "Задание 3 (про двигатели)"
   ]
  },
  {
   "cell_type": "code",
   "execution_count": null,
   "id": "81d6e912-5bf8-4b72-b33f-097e6037d7d4",
   "metadata": {},
   "outputs": [],
   "source": [
    "'''Ваш ответ на задание №3 \n",
    "- верно указана применяемая статистика и обоснование ее применения\n",
    "- получено расчетное значение статистики\n",
    "- получено критическое значение статистики\n",
    "- получено значение p_value\n",
    "- сделан статистический вывод на основе сравнения критического значения с расчетным\n",
    "- сделан статистический вывод на основе сравнения p-value и уровня значимости\n",
    "- сделан содержательный вывод по поставленной проблеме'''"
   ]
  },
  {
   "cell_type": "code",
   "execution_count": 32,
   "id": "8b9e9092",
   "metadata": {},
   "outputs": [
    {
     "name": "stdout",
     "output_type": "stream",
     "text": [
      "Критическое значение t: ±1.7138715277470473\n",
      "t-статистика: 2.1664\n",
      "p-значение: 0.0204\n",
      "На основе t-критического отвергаем нулевую гипотезу: есть значительная разница между средними прочностными характеристиками\n",
      "На основе p-value отвергаем нулевую гипотезу: есть значительная разница между средними прочностными характеристиками\n"
     ]
    }
   ],
   "source": [
    "#Т.к значение стандартного отклонения генеральной совокупности нам неизвестно и значения выборок небольшие,\n",
    "#то применяем односторонний t-тест, т.к нас интересует отклонения только в бОльшую сторону\n",
    "import numpy as np\n",
    "import scipy.stats as stats\n",
    "\n",
    "n1 = 15\n",
    "x1_mean = 90\n",
    "std1 = 2.3\n",
    "\n",
    "n2 = 10\n",
    "x2_mean = 88\n",
    "std2 = 2.2\n",
    "\n",
    "alpha = 0.05\n",
    "\n",
    "#Нулевая гипотеза (H0): Средние прочностные характеристики стали и алюминия равны (μ1 = μ2).\n",
    "#Альтернативная гипотеза (H1): Средние прочностные характеристики алюминия выше, чем стали (μ1 != μ2).\n",
    "\n",
    "t_statistic, p_value_two_side = stats.ttest_ind_from_stats(mean1=x1_mean, std1=std1, nobs1=n1, mean2=x2_mean, std2=std2, nobs2=n2)\n",
    "p_value = p_value_two_side/2\n",
    "\n",
    "critical_value = stats.t.ppf(1 - alpha, n1 + n2 -2)\n",
    "print(f\"Критическое значение t: ±{critical_value}\")\n",
    "print(f\"t-статистика: {round(t_statistic, 4)}\")\n",
    "print(f\"p-значение: {round(p_value, 4)}\")\n",
    "\n",
    "if abs(t_statistic) > critical_value:\n",
    "    print(\"На основе t-критического отвергаем нулевую гипотезу: есть значительная разница между средними прочностными характеристиками\")\n",
    "else:\n",
    "    print(\"На основе t-критического не отвергаем нулевую гипотезу: нет значительной разницы между средними прочностными характеристиками\")\n",
    "\n",
    "if p_value < alpha:\n",
    "    print(\"На основе p-value отвергаем нулевую гипотезу: есть значительная разница между средними прочностными характеристиками\")\n",
    "else:\n",
    "    print(\"На основе p-value не отвергаем нулевую гипотезу: нет значительной разницы между средними прочностными характеристиками\")\n",
    "\n",
    "#Для нашего заданного уровня доверия мы можем предположить, что различия между харакетристиками у двух материалов имеются и они статистически значимы,\n",
    "#поэтому производитель может заменить сталь на алюминий"
   ]
  },
  {
   "cell_type": "markdown",
   "id": "ad515879-cb2d-43eb-93ee-d3f6bb4b49d4",
   "metadata": {},
   "source": [
    "Задание 4 (про токи)"
   ]
  },
  {
   "cell_type": "code",
   "execution_count": null,
   "id": "f0720b4c-0ce0-43e6-be7a-bdb9d593eefd",
   "metadata": {},
   "outputs": [],
   "source": [
    "'''Ваш ответ на задание №4 \n",
    "- верно указана применяемая статистика и обоснование ее применения\n",
    "- получено расчетное значение статистики\n",
    "- получено критическое значение статистики\n",
    "- получено значение p_value\n",
    "- сделан статистический вывод на основе сравнения критического значения с расчетным\n",
    "- сделан статистический вывод на основе сравнения p-value и уровня значимости\n",
    "- сделан содержательный вывод по поставленной проблеме'''"
   ]
  },
  {
   "cell_type": "code",
   "execution_count": 5,
   "id": "81802b4b",
   "metadata": {},
   "outputs": [
    {
     "name": "stdout",
     "output_type": "stream",
     "text": [
      "Критическое значение t: ±2.0859634472658364\n",
      "t-статистика: -1.8657\n",
      "p-значение: 0.0768\n",
      "На основе t-критического не отвергаем нулевую гипотезу: нет значительной разницы между средними токами\n",
      "На основе p-value не отвергаем нулевую гипотезу: нет значительной разницы между средними токами\n"
     ]
    }
   ],
   "source": [
    "#Т.к значение стандартного отклонения генеральной совокупности нам неизвестно и значения выборок небольшие,\n",
    "#то применяем двусторонний независимый t-тест\n",
    "import numpy as np\n",
    "import scipy.stats as stats\n",
    "\n",
    "sample1 = np.array([80.1, 82.3, 84.1, 82.6, 85.3, 81.3, 83.2, 81.7, 82.2, 81.4])\n",
    "sample2 = np.array([80.7, 81.3, 84.6, 81.7, 86.3, 84.3, 83.7, 84.7, 82.8, 84.4, 85.2, 84.9])\n",
    "\n",
    "alpha = 0.05\n",
    "\n",
    "#Нулевая гипотеза (H0): Средние токи двух конструкций равны (μ1 = μ2).\n",
    "#Альтернативная гипотеза (H1): Средние токи двух конструкций различны (μ1 != μ2).\n",
    "\n",
    "t_statistic, p_value = stats.ttest_ind(sample1, sample2)\n",
    "critical_value = stats.t.ppf(1 - alpha / 2, sample1.size + sample2.size - 2)\n",
    "\n",
    "print(f\"Критическое значение t: ±{critical_value}\")\n",
    "print(f\"t-статистика: {round(t_statistic, 4)}\")\n",
    "print(f\"p-значение: {round(p_value, 4)}\")\n",
    "\n",
    "if abs(t_statistic) > critical_value:\n",
    "    print(\"На основе t-критического отвергаем нулевую гипотезу: есть значительная разница между средними токами\")\n",
    "else:\n",
    "    print(\"На основе t-критического не отвергаем нулевую гипотезу: нет значительной разницы между средними токами\")\n",
    "\n",
    "if p_value < alpha:\n",
    "    print(\"На основе p-value отвергаем нулевую гипотезу: есть значительная разница между средними токами\")\n",
    "else:\n",
    "    print(\"На основе p-value не отвергаем нулевую гипотезу: нет значительной разницы между средними токами\")\n",
    "\n",
    "#Для нашего заданного уровня доверия мы не имеем достаточных оснований утверждать, что различия между средними токами статистически значимы,\n",
    "#поэтому проиводитель может внедрять новую конструкцию"
   ]
  },
  {
   "cell_type": "markdown",
   "id": "46f3a4d3-149d-45c3-bdae-df806e07bae1",
   "metadata": {},
   "source": [
    "Задание 5 (про глюкозу)"
   ]
  },
  {
   "cell_type": "code",
   "execution_count": null,
   "id": "14596427-0d20-4ffe-8c38-e941fe204a9d",
   "metadata": {},
   "outputs": [],
   "source": [
    "'''Ваш ответ на задание №5 \n",
    "- верно указана применяемая статистика и обоснование ее применения\n",
    "- получено расчетное значение статистики\n",
    "- получено критическое значение статистики\n",
    "- получено значение p_value\n",
    "- сделан статистический вывод на основе сравнения критического значения с расчетным\n",
    "- сделан статистический вывод на основе сравнения p-value и уровня значимости\n",
    "- сделан содержательный вывод по поставленной проблеме'''"
   ]
  },
  {
   "cell_type": "code",
   "execution_count": 6,
   "id": "2fed6b92",
   "metadata": {},
   "outputs": [
    {
     "name": "stdout",
     "output_type": "stream",
     "text": [
      "Критическое значение t: ±1.7340636066175354\n",
      "t-статистика: 5.713\n",
      "p-значение: 0.0001\n",
      "На основе t-критического отвергаем нулевую гипотезу: есть значительная разница между средними уровнями глюкозы\n",
      "На основе p-value отвергаем нулевую гипотезу: есть значительная разница между средними уровнями глюкозы\n"
     ]
    }
   ],
   "source": [
    "#Т.к значение стандартного отклонения генеральной совокупности нам неизвестно и значения выборок небольшие,\n",
    "#то применяем односторонний парный t-тест, т.к нас интересует именно снижение сахара\n",
    "import numpy as np\n",
    "import scipy.stats as stats\n",
    "\n",
    "sample1 = np.array([9.6, 8.1, 8.8, 7.9, 9.2, 8.0, 8.4, 10.1, 7.8, 8.1])\n",
    "sample2 = np.array([7.7, 6.2, 7.4, 7.5, 8.3, 6.2, 8.1, 8.9, 7.4, 7.0])\n",
    "\n",
    "alpha = 0.05\n",
    "\n",
    "#Нулевая гипотеза (H0): Среднее значение уровня глюкозы с препаратом и без равны (μ1 = μ2).\n",
    "#Альтернативная гипотеза (H1): Среднее значение уровня глюкозы с препаратом меньше, чем без препарата (μ1 != μ2).\n",
    "\n",
    "t_statistic, p_value_two_side = stats.ttest_rel(sample1, sample2)\n",
    "p_value = p_value_two_side/2\n",
    "critical_value = stats.t.ppf(1 - alpha, sample1.size + sample2.size - 2)\n",
    "\n",
    "print(f\"Критическое значение t: ±{critical_value}\")\n",
    "print(f\"t-статистика: {round(t_statistic, 4)}\")\n",
    "print(f\"p-значение: {round(p_value, 4)}\")\n",
    "\n",
    "if abs(t_statistic) > critical_value:\n",
    "    print(\"На основе t-критического отвергаем нулевую гипотезу: есть значительная разница между средними уровнями глюкозы\")\n",
    "else:\n",
    "    print(\"На основе t-критического не отвергаем нулевую гипотезу: нет значительной разницы между средними уровнями глюкозы\")\n",
    "\n",
    "if p_value < alpha:\n",
    "    print(\"На основе p-value отвергаем нулевую гипотезу: есть значительная разница между средними уровнями глюкозы\")\n",
    "else:\n",
    "    print(\"На основе p-value не отвергаем нулевую гипотезу: нет значительной разницы между средними уровнями глюкозы\")\n",
    "\n",
    "#Для нашего заданного уровня доверия можем утверждать, что различия между средними уровнями глюкозы статистически значимы,\n",
    "#поэтому применение препарата для снижения глюкозы оправдано"
   ]
  },
  {
   "cell_type": "markdown",
   "id": "31d98391-527f-40ec-9212-5765fcec7794",
   "metadata": {},
   "source": [
    "Задание 6 (про тросы)"
   ]
  },
  {
   "cell_type": "code",
   "execution_count": null,
   "id": "0e3867b6-8f7a-499b-9c16-2708357091f1",
   "metadata": {},
   "outputs": [],
   "source": [
    "'''Ваш ответ на задание №6 \n",
    "- верно указана применяемая статистика и обоснование ее применения\n",
    "- получено расчетное значение статистики\n",
    "- получено критическое значение статистики\n",
    "- получено значение p_value\n",
    "- сделан статистический вывод на основе сравнения критического значения с расчетным\n",
    "- сделан статистический вывод на основе сравнения p-value и уровня значимости\n",
    "- сделан содержательный вывод по поставленной проблеме'''"
   ]
  },
  {
   "cell_type": "code",
   "execution_count": 7,
   "id": "61115268",
   "metadata": {},
   "outputs": [
    {
     "name": "stdout",
     "output_type": "stream",
     "text": [
      "Критическое значение t: ±2.583487185267472\n",
      "t-статистика: 3.1204\n",
      "p-значение: 0.0038\n",
      "На основе t-критического отвергаем нулевую гипотезу: новая сталь прочнее\n",
      "На основе p-value отвергаем нулевую гипотезу: новая сталь прочнее\n"
     ]
    }
   ],
   "source": [
    "#Т.к значение стандартного отклонения генеральной совокупности нам неизвестно и значения выборок небольшие,\n",
    "#то применяем односторонний t-тест для независимых выборок, т.к нас интересует отклонения только в бОльшую сторону\n",
    "# Поскольку в условии указано, что дисперсии не равны, мы применим тест Уэлча, который является модификацией t-теста, учитывающей неравные дисперсии.\n",
    "import numpy as np\n",
    "import scipy.stats as stats\n",
    "\n",
    "sample1 = np.array([92.7, 91.6, 94.7, 93.7, 96.5, 94.3, 93.7, 96.8, 98.9, 99.9])\n",
    "sample2 = np.array([90.1, 92.2, 94.3, 92.1, 93.4, 91.1, 93.2, 91.5])\n",
    "\n",
    "alpha = 0.01\n",
    "\n",
    "#Нулевая гипотеза (H0): Среднее значение прочностей двух типов стали одинаковое (μ1 = μ2).\n",
    "#Альтернативная гипотеза (H1): Среднее значение прочностей новой стали больше, чем старой (μ1 != μ2).\n",
    "\n",
    "t_statistic, p_value_two_side = stats.ttest_ind(sample1, sample2, equal_var=False)\n",
    "p_value = p_value_two_side/2\n",
    "critical_value = stats.t.ppf(1 - alpha, sample1.size + sample2.size - 2)\n",
    "\n",
    "print(f\"Критическое значение t: ±{critical_value}\")\n",
    "print(f\"t-статистика: {round(t_statistic, 4)}\")\n",
    "print(f\"p-значение: {round(p_value, 4)}\")\n",
    "\n",
    "if abs(t_statistic) > critical_value:\n",
    "    print(\"На основе t-критического отвергаем нулевую гипотезу: новая сталь прочнее\")\n",
    "else:\n",
    "    print(\"На основе t-критического не отвергаем нулевую гипотезу: нет значительной разницы между средними уровнями прочности\")\n",
    "\n",
    "if p_value < alpha:\n",
    "    print(\"На основе p-value отвергаем нулевую гипотезу: новая сталь прочнее\")\n",
    "else:\n",
    "    print(\"На основе p-value не отвергаем нулевую гипотезу: нет значительной разницы между средними уровнями прочности\")\n",
    "\n",
    "#Для нашего заданного уровня доверия можем утверждать, что производитель может сделать замену на новую сталь в связи со статистической значимостью различий"
   ]
  },
  {
   "cell_type": "markdown",
   "id": "c94b6ae2-c1fd-46b1-9dff-6c067dae6ac9",
   "metadata": {},
   "source": [
    "Задание 7 (про абитуриентов)"
   ]
  },
  {
   "cell_type": "code",
   "execution_count": null,
   "id": "5226283c-a4f1-44f6-a80d-90a16b8f9796",
   "metadata": {},
   "outputs": [],
   "source": [
    "'''Ваш ответ на задание №7 \n",
    "- верно указана применяемая статистика и обоснование ее применения\n",
    "- получено расчетное значение статистики\n",
    "- получено критическое значение статистики\n",
    "- получено значение p_value\n",
    "- сделан статистический вывод на основе сравнения критического значения с расчетным\n",
    "- сделан статистический вывод на основе сравнения p-value и уровня значимости\n",
    "- сделан содержательный вывод по поставленной проблеме'''"
   ]
  },
  {
   "cell_type": "code",
   "execution_count": 14,
   "id": "749bbb3b",
   "metadata": {},
   "outputs": [
    {
     "name": "stdout",
     "output_type": "stream",
     "text": [
      "Критическое значение t: ±2.552379630179453\n",
      "t-статистика: -2.9055\n",
      "p-значение: 0.0087\n",
      "На основе t-критического отвергаем нулевую гипотезу: результаты с подготовкой выше\n",
      "На основе p-value отвергаем нулевую гипотезу: результаты с подготовкой выше\n"
     ]
    }
   ],
   "source": [
    "#Т.к значение стандартного отклонения генеральной совокупности нам неизвестно и значения выборок небольшие,\n",
    "#то применяем односторонний парный t-тест, т.к нас интересует именно увеличинение результата\n",
    "import numpy as np\n",
    "import scipy.stats as stats\n",
    "\n",
    "sample1 = np.array([7, 6, 5, 4, 6, 2, 10, 3, 8, 5])\n",
    "sample2 = np.array([9, 6, 4, 5, 7, 4, 10, 6, 10, 6])\n",
    "\n",
    "alpha = 0.01\n",
    "\n",
    "#Нулевая гипотеза (H0): Среднее значение результата тестов с подготовкой на курсах и без равны (μ1 = μ2).\n",
    "#Альтернативная гипотеза (H1): Среднее значение результата тестов с подготовкой большей, чем без (μ1 != μ2).\n",
    "\n",
    "t_statistic, p_value_two_side = stats.ttest_rel(sample1, sample2)\n",
    "p_value = p_value_two_side/2\n",
    "critical_value = stats.t.ppf(1 - alpha, sample1.size + sample2.size - 2)\n",
    "\n",
    "print(f\"Критическое значение t: ±{critical_value}\")\n",
    "print(f\"t-статистика: {round(t_statistic, 4)}\")\n",
    "print(f\"p-значение: {round(p_value, 4)}\")\n",
    "\n",
    "if abs(t_statistic) > critical_value:\n",
    "    print(\"На основе t-критического отвергаем нулевую гипотезу: результаты с подготовкой выше\")\n",
    "else:\n",
    "    print(\"На основе t-критического не отвергаем нулевую гипотезу: нет значительной разницы между результатами\")\n",
    "\n",
    "if p_value < alpha:\n",
    "    print(\"На основе p-value отвергаем нулевую гипотезу: результаты с подготовкой выше\")\n",
    "else:\n",
    "    print(\"На основе p-value не отвергаем нулевую гипотезу: нет значительной разницы между результатами\")\n",
    "\n",
    "#Для нашего заданного уровня доверия можем утверждать, что различия между результатами с подготовкой и без статистически значимы, поэтому лучше ходить на курсы"
   ]
  },
  {
   "cell_type": "markdown",
   "id": "3457d32d-5ce3-4093-bf60-18cdc0d23a79",
   "metadata": {},
   "source": [
    "Задание 8 (про фрукты и IQ)"
   ]
  },
  {
   "cell_type": "code",
   "execution_count": null,
   "id": "a2fa0ca3-f86e-4ce4-9051-3d07abdceeb6",
   "metadata": {},
   "outputs": [],
   "source": [
    "'''Ваш ответ на задание №8 \n",
    "- верно указана применяемая статистика и обоснование ее применения\n",
    "- получено расчетное значение статистики\n",
    "- получено критическое значение статистики\n",
    "- получено значение p_value\n",
    "- сделан статистический вывод на основе сравнения критического значения с расчетным\n",
    "- сделан статистический вывод на основе сравнения p-value и уровня значимости\n",
    "- сделан содержательный вывод по поставленной проблеме'''"
   ]
  },
  {
   "cell_type": "code",
   "execution_count": 2,
   "id": "3dbf2f89",
   "metadata": {},
   "outputs": [
    {
     "name": "stdout",
     "output_type": "stream",
     "text": [
      "Critical F-Score: 3.178893104458269\n",
      "F-score: 1.9061769156692805\n",
      "P-Value : 0.17529362058224196\n",
      "На основе F-critical нельзя отклонить нулевую гипотезу: дисперсии групп не различаются\n",
      "На основе p-value нельзя отклонить нулевую гипотезу: дисперсии групп не различаются\n"
     ]
    }
   ],
   "source": [
    "#Для проверки гипотезы о равенстве дисперсий двух независимых выборок мы будем использовать тест Фишера (F-тест)\n",
    "import numpy as np\n",
    "import scipy.stats as stats\n",
    "\n",
    "oranges = np.array([125, 138, 112, 130, 124, 125, 110, 112, 117, 126])\n",
    "pears = np.array([124, 102, 142, 130, 131, 124, 127, 115, 108, 109])\n",
    "\n",
    "#Нулевая гипотеза (H0): Дисперсии обеих групп равны\n",
    "#Альтернативная гипотеза (H1): Дисперсии обеих групп различаются\n",
    "\n",
    "alpha = 0.05\n",
    "n = len(oranges)\n",
    "S1 = oranges.var()*n/(n-1)\n",
    "S2 = pears.var()*n/(n-1)\n",
    "F_score = S2/S1\n",
    "F_critical = stats.f.ppf(1 - alpha, dfn = n-1, dfd = n-1)\n",
    "p_value = 1 - stats.f.cdf(np.abs(F_score), dfn = n-1, dfd = n-1)\n",
    "\n",
    "print('Critical F-Score:', F_critical)\n",
    "print('F-score:', np.abs(F_score))\n",
    "print('P-Value :', p_value)\n",
    "\n",
    "if np.abs(F_score) > F_critical:\n",
    "    print(\"На основе F-critical отклоняем нулевую гипотезу: дисперсии групп различаются\")\n",
    "else: \n",
    "    print(\"На основе F-critical нельзя отклонить нулевую гипотезу: дисперсии групп не различаются\")\n",
    "p_value = 1 - stats.f.cdf(np.abs(F_score), dfn = n-1, dfd = n-1)\n",
    "\n",
    "if p_value < alpha:\n",
    "    print(\"На основе p-value отклоняем нулевую гипотезу: дисперсии групп различаются\")\n",
    "else: \n",
    "    print(\"На основе p-value нельзя отклонить нулевую гипотезу: дисперсии групп не различаются\")\n",
    "\n",
    "#Для нашего заданного уровня доверия можем утверждать, что различия не являются статистически значимыми, чтобы утверждать, что дисперсии различаются"
   ]
  },
  {
   "cell_type": "markdown",
   "id": "7f6c4b09-ad80-4c83-82fb-472272cef69d",
   "metadata": {},
   "source": [
    "Задание 9 (про самолеты)"
   ]
  },
  {
   "cell_type": "code",
   "execution_count": null,
   "id": "d6f044c5-bd38-45a4-a7b8-574bc448650d",
   "metadata": {},
   "outputs": [],
   "source": [
    "'''Ваш ответ на задание №9 \n",
    "- верно указана применяемая статистика и обоснование ее применения\n",
    "- получено расчетное значение статистики\n",
    "- получено критическое значение статистики\n",
    "- получено значение p_value\n",
    "- сделан статистический вывод на основе сравнения критического значения с расчетным\n",
    "- сделан статистический вывод на основе сравнения p-value и уровня значимости\n",
    "- сделан содержательный вывод по поставленной проблеме'''"
   ]
  },
  {
   "cell_type": "code",
   "execution_count": 66,
   "id": "8b8767f1",
   "metadata": {},
   "outputs": [
    {
     "name": "stdout",
     "output_type": "stream",
     "text": [
      "Оценка λ: 2.74\n",
      "Статистика хи-квадрат: 72.50619032809553\n",
      "Критическое значение хи-квадрат: 15.50731305586545\n",
      "P-значение: 1.5551461913805467e-12\n",
      "На основании хи-квадрат критического отвергаем нулевую гипотезу: данные не соответствуют распределению Пуассона\n",
      "На основании p-value отвергаем нулевую гипотезу: данные не соответствуют распределению Пуассона\n"
     ]
    },
    {
     "data": {
      "image/png": "[encoded data removed]",
      "text/plain": [
       "<Figure size 640x480 with 1 Axes>"
      ]
     },
     "metadata": {},
     "output_type": "display_data"
    }
   ],
   "source": [
    "#Используем распределение Пуассона\n",
    "#А потверждатать/опровергать мы будем с помощью Хи-квадрат Пирсона\n",
    "import numpy as np\n",
    "import scipy.stats as stats\n",
    "import matplotlib.pyplot as plt\n",
    "\n",
    "flights = np.array([1, 2, 3, 4, 5, 6, 7, 8, 9])\n",
    "frequency = np.array([36, 23, 11, 13, 8, 3, 2, 1, 3])\n",
    "\n",
    "#Нулевая гипотеза (H0): Распределение соответсвует распределению Пуассона\n",
    "#Альтернативная гипотеза (H1): Распределение не соответсвует распределению Пуассона\n",
    "\n",
    "lambda_estimate = np.sum(flights * frequency) / np.sum(frequency)\n",
    "\n",
    "total_observed = np.sum(frequency)\n",
    "theoretical_frequency = np.array([stats.poisson.pmf(k, lambda_estimate) * total_observed for k in flights])\n",
    "\n",
    "# Нужна нормализация ожидаемых частот, иначе будет ошибка \n",
    "theoretical_frequency *= total_observed / np.sum(theoretical_frequency)\n",
    "\n",
    "chi2_statistic, p_value = stats.chisquare(frequency, f_exp=theoretical_frequency)\n",
    "critical_value = stats.chi2.ppf(1 - alpha, len(frequency)-1)\n",
    "\n",
    "print(f\"Оценка λ: {lambda_estimate}\")\n",
    "print(f\"Статистика хи-квадрат: {chi2_statistic}\")\n",
    "print(f\"Критическое значение хи-квадрат: {critical_value}\")\n",
    "print(f\"P-значение: {p_value}\")\n",
    "\n",
    "alpha = 0.05\n",
    "\n",
    "if chi2_statistic > critical_value:\n",
    "    print(\"На основании хи-квадрат критического отвергаем нулевую гипотезу: данные не соответствуют распределению Пуассона\")\n",
    "else:\n",
    "    print(\"На основании хи-квадрат критического не отвергаем нулевую гипотезу: данные соответствуют распределению Пуассона\")\n",
    "\n",
    "if p_value < alpha:\n",
    "    print(\"На основании p-value отвергаем нулевую гипотезу: данные не соответствуют распределению Пуассона\")\n",
    "else:\n",
    "    print(\"На основании p-value не отвергаем нулевую гипотезу: данные могут соответствовать распределению Пуассона\")\n",
    "\n",
    "# Визуализация\n",
    "plt.bar(flights, frequency, alpha=0.5, label='Эмпирическая частота', color='blue')\n",
    "plt.plot(flights, theoretical_frequency, label='Теоретическая частота (Пуассон)', color='red')\n",
    "plt.xlabel('Количество вылетов')\n",
    "plt.ylabel('Частота')\n",
    "plt.title('Сравнение эмпирической и теоретической частоты')\n",
    "plt.legend()\n",
    "plt.show()\n"
   ]
  },
  {
   "cell_type": "code",
   "execution_count": 68,
   "id": "6b9bebfc",
   "metadata": {},
   "outputs": [
    {
     "name": "stdout",
     "output_type": "stream",
     "text": [
      "Критическое значение хи-квадрат: 15.50731305586545\n",
      "Оценка p-value: 0.36\n",
      "Статистика хи-квадрат: 7.162847896434765\n",
      "P-значение: 0.5191690137829245\n",
      "На основании хи-квадрат критического не отвергаем нулевую гипотезу: данные могут соответствовать геометрическому распределению\n",
      "На основании p-value критического не отвергаем нулевую гипотезу: данные могут соответствовать геометрическому распределению\n"
     ]
    },
    {
     "data": {
      "image/png": "[encoded data removed]",
      "text/plain": [
       "<Figure size 640x480 with 1 Axes>"
      ]
     },
     "metadata": {},
     "output_type": "display_data"
    }
   ],
   "source": [
    "#Попробуем предположить геометрическое распределение\n",
    "import numpy as np\n",
    "import scipy.stats as stats\n",
    "import matplotlib.pyplot as plt\n",
    "\n",
    "flights = np.array([1, 2, 3, 4, 5, 6, 7, 8, 9])\n",
    "frequencies = np.array([36, 23, 11, 13, 8, 3, 2, 1, 3])\n",
    "\n",
    "N = np.sum(frequencies)\n",
    "\n",
    "#Нулевая гипотеза (H0): Распределение соответсвует геометрическому\n",
    "#Альтернативная гипотеза (H1): Распределение не соответсвует геометрическому\n",
    "\n",
    "# Оценка вероятности успеха p\n",
    "p_estimate = frequencies[0] / N  # Вероятность нахождения корабля с первого вылета\n",
    "\n",
    "theoretical_frequencies = N * (1 - p_estimate) ** (flights - 1) * p_estimate\n",
    "\n",
    "observed_sum = np.sum(frequencies)\n",
    "expected_sum = np.sum(theoretical_frequencies)\n",
    "\n",
    "# Нормализация теоретических частот, иначе будет ошибка\n",
    "theoretical_frequencies *= (observed_sum / np.sum(theoretical_frequencies))\n",
    "\n",
    "chi2_statistic_geom, p_value = stats.chisquare(frequencies, f_exp=theoretical_frequencies)\n",
    "critical_value_geom = stats.chi2.ppf(1 - alpha, len(frequency)-1)\n",
    "\n",
    "print(f\"Критическое значение хи-квадрат: {critical_value_geom}\")\n",
    "print(f\"Оценка p-value: {p_estimate}\")\n",
    "print(f\"Статистика хи-квадрат: {chi2_statistic_geom}\")\n",
    "print(f\"P-значение: {p_value}\")\n",
    "\n",
    "alpha = 0.05\n",
    "\n",
    "if chi2_statistic_geom > critical_value_geom:\n",
    "    print(\"На основании хи-квадрат критического отвергаем нулевую гипотезу: данные не соответствуют геометрическому распределению\")\n",
    "else:\n",
    "    print(\"На основании хи-квадрат критического не отвергаем нулевую гипотезу: данные могут соответствовать геометрическому распределению\")\n",
    "if p_value < alpha:\n",
    "    print(\"На основании p-value критического отвергаем нулевую гипотезу: данные не соответствуют геометрическому распределению\")\n",
    "else:\n",
    "    print(\"На основании p-value критического не отвергаем нулевую гипотезу: данные могут соответствовать геометрическому распределению\")\n",
    "\n",
    "# Визуализация\n",
    "plt.bar(flights, frequencies, alpha=0.5, label='Эмпирическая частота', color='blue', width=0.4)\n",
    "plt.plot(flights, theoretical_frequencies, label='Теоретическая частота (Геометрическое)', color='red')\n",
    "plt.xlabel('Количество вылетов до нахождения корабля')\n",
    "plt.ylabel('Частота')\n",
    "plt.title('Сравнение эмпирической и теоретической частоты (Геометрическое распределение)')\n",
    "plt.legend()\n",
    "plt.show()\n",
    "\n",
    "#С заданным уровнем доверия мы можем предположить, что распределение соответсвует геометрическому"
   ]
  },
  {
   "cell_type": "markdown",
   "id": "e29e7bbb",
   "metadata": {},
   "source": [
    "Задание 10 (про цвет глаз и волос)"
   ]
  },
  {
   "cell_type": "code",
   "execution_count": null,
   "id": "9b332ef6-d1f6-4f3a-8a67-59a2f50f149d",
   "metadata": {},
   "outputs": [],
   "source": [
    "'''Ваш ответ на задание №10\n",
    "- верно указана применяемая статистика и обоснование ее применения\n",
    "- получено расчетное значение статистики\n",
    "- получено критическое значение статистики\n",
    "- получено значение p_value\n",
    "- сделан статистический вывод на основе сравнения критического значения с расчетным\n",
    "- сделан статистический вывод на основе сравнения p-value и уровня значимости\n",
    "- сделан содержательный вывод по поставленной проблеме'''"
   ]
  },
  {
   "cell_type": "code",
   "execution_count": 64,
   "id": "efb5a2aa",
   "metadata": {},
   "outputs": [
    {
     "name": "stdout",
     "output_type": "stream",
     "text": [
      "Критическое значение хи-квадрат: 9.487729036781154\n",
      "Статистика хи-квадрат: 0.09615384615384615\n",
      "P-значение: 0.9989\n",
      "На основании хи-квадрат критического не отвергаем нулевую гипотезу: нет статистически значимой связи между цветом глаз и цветом волос.\n",
      "На основании p-value не отвергаем нулевую гипотезу: нет статистически значимой связи между цветом глаз и цветом волос\n"
     ]
    }
   ],
   "source": [
    "#Для анализа взаимосвязи между двумя категориальными переменными мы можем использовать тест Хи-квадрат Пирсона.\n",
    "# Этот тест позволяет определить, есть ли статистически значимая связь между двумя переменными\n",
    "import numpy as np\n",
    "import scipy.stats as stats\n",
    "import pandas as pd\n",
    "\n",
    "data = np.array([[35, 52, 13],\n",
    "                 [28, 42, 10],\n",
    "                 [7, 10, 3]])\n",
    "\n",
    "#Нулевая гипотеза (H0): Нет никакой связи между цветом глаз и волос\n",
    "#Альтернативная гипотеза (H1): Связь между цветом волос и глаз имеется\n",
    "\n",
    "chi2_statistic, p_value, dof, expected = stats.chi2_contingency(data)\n",
    "critical_value = stats.chi2.ppf(1 - alpha, dof)\n",
    "alpha = 0.05\n",
    "\n",
    "print(f\"Критическое значение хи-квадрат: {critical_value}\")\n",
    "print(f\"Статистика хи-квадрат: {chi2_statistic}\")\n",
    "print(f\"P-значение: {round(p_value, 4)}\")\n",
    "\n",
    "if chi2_statistic > critical_value:\n",
    "    print(\"На основании хи-квадрат критического отвергаем нулевую гипотезу: существует связь между цветом глаз и цветом волос.\")\n",
    "else:\n",
    "    print(\"На основании хи-квадрат критического не отвергаем нулевую гипотезу: нет статистически значимой связи между цветом глаз и цветом волос.\")\n",
    "\n",
    "if p_value < alpha:\n",
    "    print(\"На основании p-value отвергаем нулевую гипотезу: существует связь между цветом глаз и цветом волос\")\n",
    "else:\n",
    "    print(\"На основании p-value не отвергаем нулевую гипотезу: нет статистически значимой связи между цветом глаз и цветом волос\")\n",
    "\n",
    "#С заданным уровнем доверия мы можем предположить, что связи между цветом волос и глаз нет"
   ]
  },
  {
   "cell_type": "markdown",
   "id": "181ab8f2-c071-4803-ad2e-3f10813f0c6a",
   "metadata": {},
   "source": [
    "Задание 11 (про тигров)"
   ]
  },
  {
   "cell_type": "code",
   "execution_count": null,
   "id": "da071797-ff7a-4b0c-8553-0df933687fe4",
   "metadata": {},
   "outputs": [],
   "source": [
    "'''Ваш ответ на задание №11\n",
    "- верно указана применяемая статистика и обоснование ее применения\n",
    "- получено расчетное значение статистики\n",
    "- получено значение p_value\n",
    "- сделан статистический вывод на основе сравнения p-value и уровня значимости\n",
    "- в случае, если нулевая гипотеза отвергнута, сделан тест Тьюки для подробного сравнения средних\n",
    "- сделано дополнение к статистическому выводу по результатам теста Тьюки\n",
    "- сделан содержательный вывод по поставленной проблеме'''"
   ]
  },
  {
   "cell_type": "code",
   "execution_count": 46,
   "id": "b38d729f",
   "metadata": {},
   "outputs": [
    {
     "name": "stdout",
     "output_type": "stream",
     "text": [
      "Отвергаем нулевую гипотезу: существует связь между типом кормом и массой тигра\n",
      "Результаты теста Тьюки:\n",
      " Multiple Comparison of Means - Tukey HSD, FWER=0.05  \n",
      "======================================================\n",
      "group1 group2 meandiff p-adj   lower    upper   reject\n",
      "------------------------------------------------------\n",
      "Корм_1 Корм_2    -21.5    0.0  -32.019  -10.981   True\n",
      "Корм_1 Корм_3   5.8571  0.458  -4.6619  16.3762  False\n",
      "Корм_1 Корм_4 -16.8571 0.0005 -27.3762  -6.3381   True\n",
      "Корм_2 Корм_3  27.3571    0.0  16.8381  37.8762   True\n",
      "Корм_2 Корм_4   4.6429 0.6473  -5.8762  15.1619  False\n",
      "Корм_3 Корм_4 -22.7143    0.0 -33.2333 -12.1953   True\n",
      "------------------------------------------------------\n"
     ]
    },
    {
     "data": {
      "image/png": "[encoded data removed]",
      "text/plain": [
       "<Figure size 1000x600 with 1 Axes>"
      ]
     },
     "metadata": {},
     "output_type": "display_data"
    }
   ],
   "source": [
    "import numpy as np\n",
    "import scipy.stats as stats\n",
    "import pandas as pd\n",
    "from statsmodels.stats.multicomp import pairwise_tukeyhsd\n",
    "import seaborn as sns\n",
    "import matplotlib.pyplot as plt\n",
    "\n",
    "X1 = np.array([151, 135, 137, 118, 132, 135, 131, 121, 137, 140, 152, 133, 151, 132])\n",
    "X2 = np.array([108, 123, 145, 103, 110, 124, 116, 108, 104, 130, 106, 105, 114, 108])\n",
    "X3 = np.array([140, 152, 149, 132, 124, 146, 156, 137, 124, 145, 147, 139, 157, 139])\n",
    "X4 = np.array([127, 135, 110, 116, 119, 123, 102, 121, 118, 120, 114, 134, 121, 109])\n",
    "\n",
    "#Нулевая гипотеза (H0): Нет никакой связи между кормом и массой тигра\n",
    "#Альтернативная гипотеза (H1): Связь между кормом и массой тигра имеется\n",
    "\n",
    "res = stats.f_oneway(X1, X2, X3, X4)\n",
    "\n",
    "alpha = 0.05\n",
    "\n",
    "if res.pvalue < alpha:\n",
    "    print(\"Отвергаем нулевую гипотезу: существует связь между типом кормом и массой тигра\")\n",
    "    data = {\n",
    "        'value': np.concatenate([X1, X2, X3, X4]),\n",
    "        'group': ['Корм_1'] * len(X1) + ['Корм_2'] * len(X2) + ['Корм_3'] * len(X3) + ['Корм_4'] * len(X4)\n",
    "    }\n",
    "    df = pd.DataFrame(data)\n",
    "\n",
    "    tukey_results = pairwise_tukeyhsd(endog=df['value'], groups=df['group'], alpha=0.05)\n",
    "    print(\"Результаты теста Тьюки:\")\n",
    "    print(tukey_results)\n",
    "else:\n",
    "    print(\"Не отвергаем нулевую гипотезу: нет статистически значимой связи между типом кормом и массой тигра\")\n",
    "df = pd.DataFrame({\n",
    "    'Корм': ['Корм_1'] * 30 + ['Корм_2'] * 30 + ['Корм_3'] * 30 + ['Корм_4'] * 30,\n",
    "    'Значение': [10 + i for i in range(30)] + [20 + i for i in range(30)] + [15 + i for i in range(30)] + [25 + i for i in range(30)]\n",
    "})\n",
    "\n",
    "plt.figure(figsize=(10, 6))\n",
    "sns.boxplot(x='Корм', y='Значение', data=df)\n",
    "plt.title('Boxplot для различных кормов')\n",
    "plt.xlabel('Тип корма')\n",
    "plt.ylabel('Значение')\n",
    "\n",
    "tukey_results = [\n",
    "    (\"Корм_1\", \"Корм_2\", -21.5),\n",
    "    (\"Корм_1\", \"Корм_3\", 5.8571),\n",
    "    (\"Корм_1\", \"Корм_4\", -16.8571),\n",
    "    (\"Корм_2\", \"Корм_3\", 27.3571),\n",
    "    (\"Корм_2\", \"Корм_4\", 4.6429),\n",
    "    (\"Корм_3\", \"Корм_4\", -22.7143)\n",
    "]\n",
    "\n",
    "for group1, group2, meandiff in tukey_results:\n",
    "    y_position = df['Значение'].max()\n",
    "plt.grid(True)\n",
    "plt.show()\n",
    "#С заданным уровнем доверия мы можем предположить, что связь между массой тигра и типом кормом статистически значима"
   ]
  },
  {
   "cell_type": "markdown",
   "id": "81619fe5",
   "metadata": {},
   "source": [
    "Результаты теста Тьюки представляют собой анализ множественных сравнений средних значений между группами. Этот тест используется для определения, существуют ли статистически значимые различия между средними значениями различных групп после того, как был проведен ANOVA\n",
    "\n",
    "1. Корм1 vs Корм2\n",
    "\n",
    "   • meandiff: -21.5 — среднее значение Корма1 меньше среднего значения Корма2 на 21.5\n",
    "\n",
    "   • p-adj: 0.0 — это значение значительно меньше 0.05, что указывает на наличие статистически значимого различия\n",
    "\n",
    "   • lower: -32.019 и upper: -10.981 — доверительный интервал не включает ноль, что подтверждает наличие значимого различия\n",
    "\n",
    "   • reject: True — нулевая гипотеза отвергается\n",
    "\n",
    "2. Корм1 vs Корм3\n",
    "\n",
    "   • meandiff: 5.8571 — Корм1 имеет среднее значение на 5.8571 больше, чем Корм3\n",
    "\n",
    "   • p-adj: 0.458 — это значение значительно больше 0.05, что указывает на отсутствие статистически значимого различия\n",
    "\n",
    "   • lower и upper — доверительный интервал включает ноль\n",
    "\n",
    "   • reject: False — нулевая гипотеза не отвергается\n",
    "\n",
    "3. Корм1 vs Корм4\n",
    "\n",
    "   • meandiff: -16.8571 — Корм1 меньше Корма4 на 16.8571\n",
    "\n",
    "   • p-adj: 0.0005 — это значение значительно меньше 0.05, что указывает на наличие статистически значимого различия\n",
    "\n",
    "   • lower: -27.3762 и upper: -6.3381 — доверительный интервал не включает ноль\n",
    "\n",
    "   • reject: True — нулевая гипотеза отвергается\n",
    "\n",
    "4. Корм2 vs Корм3\n",
    "\n",
    "   • meandiff: 27.3571 — Корм2 больше Корма3 на 27.3571\n",
    "\n",
    "   • p-adj: 0.0 — это значение значительно меньше 0.05, что указывает на наличие статистически значимого различия\n",
    "\n",
    "   • lower: 16.8381 и upper: 37.8762 — доверительный интервал не включает ноль\n",
    "\n",
    "   • reject: True — нулевая гипотеза отвергается\n",
    "\n",
    "5. Корм2 vs Корм4\n",
    "\n",
    "   • meandiff: 4.6429 — Корм2 немного больше Корма4 на 4.6429\n",
    "\n",
    "   • p-adj: 0.6473 — это значение значительно больше 0.05, что указывает на отсутствие статистически значимого различия\n",
    "\n",
    "   • lower и upper — доверительный интервал включает ноль\n",
    "\n",
    "   • reject: False — нулевая гипотеза не отвергается\n",
    "\n",
    "6. Корм3 vs Корм4\n",
    "\n",
    "   • meandiff: -22.7143 — Корм3 меньше Корма4 на 22.7143\n",
    "\n",
    "   • p-adj: 0.0 — это значение значительно меньше 0.05, что указывает на наличие статистически значимого различия\n",
    "\n",
    "   • lower: -33.2333 и upper: -12.1953 — доверительный интервал не включает ноль\n",
    "\n",
    "   • reject: True — нулевая гипотеза отвергается\n",
    "\n",
    "Из результатов видно, что:\n",
    "\n",
    "• Существует статистически значимое различие между Кормом1 и Кормом2, а также между Кормом1 и Кормом4\n",
    "\n",
    "• Также есть значительное различие между Кормом2 и Кормом3, а также между Кормом3 и Кормом4\n",
    "\n",
    "• Между Кормом1 и Кормом3, а также между Кормом2 и Кормом4 значительных различий не обнаружено\n",
    "\n",
    "Таже наглядно наличие/отсутствие различия между группами может продемонстрировать визуально ящик с усами"
   ]
  },
  {
   "cell_type": "markdown",
   "id": "2e2b26c8-37a6-41dc-82c5-20e35e44aee0",
   "metadata": {},
   "source": [
    "Задание 12 (про белок)"
   ]
  },
  {
   "cell_type": "code",
   "execution_count": null,
   "id": "f86f1f46-31d1-4529-a3b7-a196dc2a3048",
   "metadata": {},
   "outputs": [],
   "source": [
    "'''Ваш ответ на задание №12\n",
    "- верно указана применяемая статистика и обоснование ее применения\n",
    "- расчет выполнен через последовательные суммы квадратов\n",
    "- получены расчетные значения статистики\n",
    "- получены значения p_value\n",
    "- сделан статистический вывод на основе сравнения p-value и уровня значимости\n",
    "- сделан содержательный вывод по поставленной проблеме'''"
   ]
  },
  {
   "cell_type": "code",
   "execution_count": 63,
   "id": "7fefdacf",
   "metadata": {},
   "outputs": [
    {
     "name": "stdout",
     "output_type": "stream",
     "text": [
      "                         df     sum_sq       mean_sq          F        PR(>F)\n",
      "C(Возраст)              2.0  2427075.8  1.213538e+06  42.377707  1.333903e-08\n",
      "C(Выводок)              1.0   202705.2  2.027052e+05   7.078626  1.368668e-02\n",
      "C(Возраст):C(Выводок)   2.0    50688.2  2.534410e+04   0.885036  4.257428e-01\n",
      "Residual               24.0   687269.6  2.863623e+04        NaN           NaN\n"
     ]
    }
   ],
   "source": [
    "import pandas as pd\n",
    "import statsmodels.api as sm\n",
    "from statsmodels.formula.api import ols\n",
    "from statsmodels.stats.anova import anova_lm\n",
    "\n",
    "data =  pd.DataFrame({\n",
    "    'Возраст': [1]*10 + [2]*10 + [3]*10,\n",
    "    'Выводок': ['Без выводка']*5 + ['С выводком']*5 + ['Без выводка']*5 + ['С выводком']*5 + ['Без выводка']*5 + ['С выводком']*5,\n",
    "    'Масса': [440, 438, 429, 502, 602, 308, 328, 326, 326, 325,\n",
    "              892, 868, 855, 866, 932, 737, 798, 876, 810, 861,\n",
    "              1575, 849, 759, 1602, 1327, 1001, 901, 958, 1032, 883]\n",
    "})\n",
    "\n",
    "#Нулевая гипотеза (H0): Нет никакой связи между массой, возрастом и наличия выводка\n",
    "#Альтернативная гипотеза (H1): Хотя бы в одной из паре признаков связь присутствует\n",
    "\n",
    "model = ols('Масса ~ C(Возраст) + C(Выводок) + C(Возраст):C(Выводок)', data=df).fit()\n",
    "anova_results = anova_lm(model, typ=1)\n",
    "\n",
    "print(anova_results)"
   ]
  },
  {
   "cell_type": "markdown",
   "id": "913558ef",
   "metadata": {},
   "source": [
    "1. Эффект возраста (C(Возраст)):\n",
    "    p-значение (PR(>F) = 1.33e-08) значительно меньше 0.05, что говорит о том, что эффект возраста статистически значим. Это означает, что различия между группами по возрасту не случайны и имеют практическое значение.\n",
    "\n",
    "2. Эффект выводка (C(Выводок)):\n",
    "    p-значение (PR(>F) = 0.0137) меньше 0.05, что также свидетельствует о статистической значимости эффекта выводка. Это говорит о том, что различия между группами по выводку также имеют значение.\n",
    "\n",
    "3. Взаимодействие (C(Возраст):C(Выводок)):\n",
    "    p-значение (PR(>F) = 0.4257) значительно больше 0.05, что указывает на отсутствие статистически значимого взаимодействия между возрастом и выводком. Это значит, что эффект возраста не зависит от выводка и наоборот.\n",
    "\n",
    "Итого:\n",
    "\n",
    "• Фактор \"Возраст\" оказывает значительное влияние на зависимую переменную.\n",
    "\n",
    "• Фактор \"Выводок\" также имеет статистически значимый эффект, хотя и менее выраженный.\n",
    "\n",
    "• Взаимодействие между возрастом и выводком не является значимым, что позволяет рассматривать эффекты этих факторов независимо друг от друга."
   ]
  }
 ],
 "metadata": {
  "kernelspec": {
   "display_name": "base",
   "language": "python",
   "name": "python3"
  },
  "language_info": {
   "codemirror_mode": {
    "name": "ipython",
    "version": 3
   },
   "file_extension": ".py",
   "mimetype": "text/x-python",
   "name": "python",
   "nbconvert_exporter": "python",
   "pygments_lexer": "ipython3",
   "version": "3.12.7"
  }
 },
 "nbformat": 4,
 "nbformat_minor": 5
}
